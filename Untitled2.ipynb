{
 "cells": [
  {
   "cell_type": "code",
   "execution_count": 1,
   "id": "01d0323e-57ac-4bec-81f7-1ee6adbbcd91",
   "metadata": {},
   "outputs": [
    {
     "name": "stdout",
     "output_type": "stream",
     "text": [
      "1\n",
      "2\n",
      "3\n",
      "4\n",
      "5\n"
     ]
    }
   ],
   "source": [
    "x=[1,2,3,4,5]\n",
    "for a in range(0,5):\n",
    "    print(x[a])"
   ]
  },
  {
   "cell_type": "code",
   "execution_count": 3,
   "id": "a686563b-0746-4aea-998b-91f976371082",
   "metadata": {},
   "outputs": [
    {
     "name": "stdout",
     "output_type": "stream",
     "text": [
      "2\n",
      "3\n",
      "4\n",
      "5\n",
      "6\n"
     ]
    }
   ],
   "source": [
    "a=[1,2,3,4,5,6]\n",
    "for i in range(1,6):\n",
    "    print(a[i])"
   ]
  },
  {
   "cell_type": "code",
   "execution_count": 2,
   "id": "9c819df2-3911-42aa-bb41-53095cd4df40",
   "metadata": {},
   "outputs": [
    {
     "name": "stdout",
     "output_type": "stream",
     "text": [
      "[1, 2, 3, 4, 5]\n",
      "[1, 2, 3, 4, 5, 6, 9]\n",
      "[2, 3, 4, 5, 6, 9]\n",
      "[9, 6, 5, 4, 3, 2]\n",
      "6\n",
      "[9, 6, 5, 4, 3, 2, 7]\n"
     ]
    }
   ],
   "source": [
    "a=[1,2,3,4,5]\n",
    "b=a.copy()\n",
    "print(b)\n",
    "b.append(6)\n",
    "b.append(9)\n",
    "print(b)\n",
    "b.remove(1)\n",
    "print(b)\n",
    "b.sort(reverse=True)\n",
    "print(b)\n",
    "print(len(b))\n",
    "b.insert(8,7)\n",
    "print(b)\n",
    "\n",
    "\n",
    "\n",
    "\n",
    "\n",
    "\n"
   ]
  },
  {
   "cell_type": "markdown",
   "id": "117ed017-ce33-4903-9fc1-a69f19241260",
   "metadata": {},
   "source": [
    "pop is used to pull out element of the list\n",
    "append is used to append the oject to the end of the list\n",
    "extend list by \n",
    "copy is used to create a list \n",
    "index return the first index of value\n",
    "count return number of occurrence of a value\n",
    "insert object before index\n",
    "remove first occurence of a value\n",
    "sort the list in ascending order and return none\n",
    "len(list) is used to find the length "
   ]
  },
  {
   "cell_type": "code",
   "execution_count": 3,
   "id": "9ca05803-8c45-41fe-bfb2-618476f5d2f0",
   "metadata": {},
   "outputs": [
    {
     "name": "stdout",
     "output_type": "stream",
     "text": [
      "1\n",
      "9\n",
      "56\n",
      "76\n",
      "90\n",
      "3\n",
      "4\n",
      "5\n",
      "6\n",
      "2\n"
     ]
    }
   ],
   "source": [
    "a=[1,9,56,76,90,3,4,5,6,2]\n",
    "for x in a:\n",
    "    print(x)"
   ]
  },
  {
   "cell_type": "markdown",
   "id": "81c5924a-f4e4-4ed4-b00d-31e52eba0d18",
   "metadata": {},
   "source": [
    "for each loop"
   ]
  },
  {
   "cell_type": "code",
   "execution_count": 4,
   "id": "da3757d1-2d5a-4108-8711-b6b5ad9c8c67",
   "metadata": {},
   "outputs": [
    {
     "name": "stdin",
     "output_type": "stream",
     "text": [
      "enter the size of the list: 5\n",
      " 1\n",
      " 2\n",
      " 3\n",
      " 4\n",
      " 5\n"
     ]
    },
    {
     "name": "stdout",
     "output_type": "stream",
     "text": [
      "['1', '2', '3', '4', '5']\n"
     ]
    }
   ],
   "source": [
    "n=int(input(\"enter the size of the list:\"))\n",
    "a=[]\n",
    "for x in range(0,n):\n",
    "    x=input()\n",
    "    a.append(x)\n",
    "print(a)    "
   ]
  },
  {
   "cell_type": "code",
   "execution_count": 5,
   "id": "ce2e6d31-23ca-4cb1-bf64-7ae299a3facc",
   "metadata": {},
   "outputs": [
    {
     "name": "stdin",
     "output_type": "stream",
     "text": [
      "enter the elements of the list: 1 2 3 4 5 6 7 8 9 0\n"
     ]
    },
    {
     "name": "stdout",
     "output_type": "stream",
     "text": [
      "[1, 2, 3, 4, 5, 6, 7, 8, 9, 0]\n"
     ]
    }
   ],
   "source": [
    "L=[int(item) for item in (input(\"enter the elements of the list:\")).split()]\n",
    "print(L)"
   ]
  },
  {
   "cell_type": "code",
   "execution_count": 6,
   "id": "a3da541f-5639-4cea-b3e3-19df3fd0d8b7",
   "metadata": {},
   "outputs": [
    {
     "name": "stdout",
     "output_type": "stream",
     "text": [
      "[1, 2, 3, 4, 5, 6]\n"
     ]
    }
   ],
   "source": [
    "a=list([1,2,3,4,5,6])\n",
    "print(a)"
   ]
  },
  {
   "cell_type": "markdown",
   "id": "d3d1ee5a-c4b5-49d0-b3a5-8cb62d5ba121",
   "metadata": {},
   "source": [
    "tuple"
   ]
  },
  {
   "cell_type": "code",
   "execution_count": 7,
   "id": "cf54ac0c-d735-4cf5-9d3b-cb7ab9cbc7a6",
   "metadata": {},
   "outputs": [
    {
     "name": "stdout",
     "output_type": "stream",
     "text": [
      "(1, 2, 3, 4.4, 'MUTTU')\n"
     ]
    }
   ],
   "source": [
    "a=(1,2,3,4.4,\"MUTTU\")\n",
    "print(a)"
   ]
  },
  {
   "cell_type": "code",
   "execution_count": 10,
   "id": "11f7d200-7693-4473-a00d-d6f17acc4b59",
   "metadata": {
    "jp-MarkdownHeadingCollapsed": true
   },
   "outputs": [
    {
     "name": "stdin",
     "output_type": "stream",
     "text": [
      "Enter the number of elements in the list:  5\n"
     ]
    },
    {
     "name": "stdout",
     "output_type": "stream",
     "text": [
      "Enter the elements of the list:\n"
     ]
    },
    {
     "name": "stdin",
     "output_type": "stream",
     "text": [
      " 1\n",
      " 2\n",
      " 3\n",
      " 4\n",
      " 5\n"
     ]
    },
    {
     "name": "stdout",
     "output_type": "stream",
     "text": [
      "Original list: ['1', '2', '3', '4', '5']\n",
      "Reversed list: ['5', '4', '3', '2', '1']\n"
     ]
    }
   ],
   "source": [
    "my_list = []\n",
    "\n",
    "n = int(input(\"Enter the number of elements in the list: \"))\n",
    "print(\"Enter the elements of the list:\")\n",
    "\n",
    "for i in range(n):\n",
    "    element = input()\n",
    "    my_list.append(element)\n",
    "\n",
    "reversed_list = []\n",
    "for i in range(len(my_list)-1, -1, -1):\n",
    "    reversed_list.append(my_list[i])\n",
    "\n",
    "print(\"Original list:\", my_list)\n",
    "print(\"Reversed list:\", reversed_list)\n"
   ]
  },
  {
   "cell_type": "code",
   "execution_count": 12,
   "id": "142600cd-c34a-447a-9553-8cace0c25bff",
   "metadata": {},
   "outputs": [
    {
     "name": "stdout",
     "output_type": "stream",
     "text": [
      "5\n",
      "4\n",
      "3\n",
      "2\n",
      "1\n"
     ]
    }
   ],
   "source": [
    "a=(1,2,3,4,5)\n",
    "for x in range(-1,-1*(len(a)+1),-1):\n",
    "    print(a[x])"
   ]
  },
  {
   "cell_type": "code",
   "execution_count": 13,
   "id": "6880ecec-56e2-4843-a54b-0f20aaad119c",
   "metadata": {},
   "outputs": [
    {
     "name": "stdout",
     "output_type": "stream",
     "text": [
      "5\n",
      "4\n",
      "3\n",
      "2\n",
      "1\n"
     ]
    }
   ],
   "source": [
    "a=(1,2,3,4,5)\n",
    "for x in range(0,len(a)):\n",
    "    print(a[-1*(x+1)])"
   ]
  },
  {
   "cell_type": "markdown",
   "id": "904f84cc-da69-4a45-a952-0b1ee02000ef",
   "metadata": {},
   "source": [
    "dictionary is a key and values or key values pair\n",
    "write a program to take key and value as a input from the user and add it to the dic\n",
    "if key is not present otherwise print key already exist and aslo print its value"
   ]
  },
  {
   "cell_type": "code",
   "execution_count": 14,
   "id": "97ebfefd-2f11-426a-b831-ea40371b54fb",
   "metadata": {},
   "outputs": [
    {
     "name": "stdout",
     "output_type": "stream",
     "text": [
      "{1: 'abc', 2: 'xyz', 3: 'pqr', 4: 'klm'}\n"
     ]
    }
   ],
   "source": [
    "D={1:\"abc\",2:\"xyz\",3:\"pqr\",4:\"klm\"}\n",
    "print(D)"
   ]
  },
  {
   "cell_type": "code",
   "execution_count": 2,
   "id": "485c0151-c33d-496d-99ff-b54ec076fc19",
   "metadata": {},
   "outputs": [
    {
     "name": "stdin",
     "output_type": "stream",
     "text": [
      "Enter the key:  6\n",
      "Enter the value:  8\n"
     ]
    },
    {
     "name": "stdout",
     "output_type": "stream",
     "text": [
      "Key-value pair added to dictionary.\n",
      "Updated dictionary: {'6': '8'}\n"
     ]
    }
   ],
   "source": [
    "\n",
    "my_dict = {}\n",
    "\n",
    "\n",
    "key = input(\"Enter the key: \")\n",
    "value = input(\"Enter the value: \")\n",
    "\n",
    "\n",
    "if key in my_dict:\n",
    "    print(\"Key already exists!\")\n",
    "    print(\"Value corresponding to the key:\", my_dict[key])\n",
    "else:\n",
    "    \n",
    "    my_dict[key] = value\n",
    "    print(\"Key-value pair added to dictionary.\")\n",
    "\n",
    "print(\"Updated dictionary:\", my_dict)\n"
   ]
  },
  {
   "cell_type": "code",
   "execution_count": 4,
   "id": "6e06a04d-3140-4dd1-8f54-15043e530cc2",
   "metadata": {},
   "outputs": [
    {
     "name": "stdin",
     "output_type": "stream",
     "text": [
      " 4\n",
      " 2\n"
     ]
    },
    {
     "name": "stdout",
     "output_type": "stream",
     "text": [
      "print division successful\n",
      "2.0\n",
      "Error handled\n",
      "we have received the result as:  2.0\n"
     ]
    }
   ],
   "source": [
    "A=int(input())\n",
    "B=int(input())\n",
    "try:\n",
    "    C=A/B\n",
    "except:\n",
    "    print(\"we can't divide by zero\")\n",
    "    C=0\n",
    "else:\n",
    "    print(\"print division successful\")\n",
    "    print(C)\n",
    "finally:\n",
    "    print(\"Error handled\")\n",
    "\n",
    "print(\"we have received the result as: \",C)"
   ]
  },
  {
   "cell_type": "code",
   "execution_count": 9,
   "id": "785cb561-9413-4dd9-869c-5a76f56c3c48",
   "metadata": {},
   "outputs": [
    {
     "name": "stdin",
     "output_type": "stream",
     "text": [
      "enter the index: 10\n"
     ]
    },
    {
     "name": "stdout",
     "output_type": "stream",
     "text": [
      "there is no index\n"
     ]
    }
   ],
   "source": [
    "a=[1,2,3,4,5,6,7,8,9]\n",
    "i=int(input(\"enter the index:\"))\n",
    "try:\n",
    "    print(a[i])\n",
    "except:\n",
    "    print(\"there is no index\")"
   ]
  },
  {
   "cell_type": "code",
   "execution_count": 3,
   "id": "3a78563b-75b5-4b5b-a8d0-6d7d48cb40aa",
   "metadata": {},
   "outputs": [
    {
     "name": "stdin",
     "output_type": "stream",
     "text": [
      " 3\n",
      " 6\n"
     ]
    },
    {
     "name": "stdout",
     "output_type": "stream",
     "text": [
      "some unknown error found\n",
      "code execution done\n"
     ]
    }
   ],
   "source": [
    "try:\n",
    "    a=input()\n",
    "    b=input()\n",
    "    c=int(a)/int(b)\n",
    "    x=\"hello\"/3\n",
    "except ValueError:\n",
    "    print(\"value unable to convert\")\n",
    "except ZeroDivisionError:\n",
    "    print(\"cant divide by zero\")\n",
    "except:\n",
    "    print(\"some unknown error found\")\n",
    "else:\n",
    "    print(\"no error\")\n",
    "finally:\n",
    "    print(\"code execution done\")"
   ]
  },
  {
   "cell_type": "markdown",
   "id": "4054c589-ccce-4cb5-bf12-0ba2e0994c4a",
   "metadata": {},
   "source": [
    " \n"
   ]
  },
  {
   "cell_type": "markdown",
   "id": "172ff0a5-4947-4aed-aa6c-eb4f1f668e38",
   "metadata": {},
   "source": [
    "DAY 4\n"
   ]
  },
  {
   "cell_type": "code",
   "execution_count": 8,
   "id": "2bdb830d-d636-4837-9092-fc3c93d18033",
   "metadata": {},
   "outputs": [
    {
     "name": "stdin",
     "output_type": "stream",
     "text": [
      " 7\n"
     ]
    },
    {
     "name": "stdout",
     "output_type": "stream",
     "text": [
      "A is a number\n"
     ]
    }
   ],
   "source": [
    "a=input()\n",
    "if a.isupper():\n",
    "    print(\"A is a upper case\")\n",
    "elif a.islower():\n",
    "    print(\"A is a lower case\")\n",
    "elif a.isnumeric():\n",
    "    print(\"A is a number\")\n",
    "else:\n",
    "    print(\"A is a special case\")\n",
    "    "
   ]
  },
  {
   "cell_type": "code",
   "execution_count": 10,
   "id": "16f5b345-e154-4dbf-92db-36849f994d4b",
   "metadata": {},
   "outputs": [
    {
     "name": "stdin",
     "output_type": "stream",
     "text": [
      " abcba\n"
     ]
    },
    {
     "name": "stdout",
     "output_type": "stream",
     "text": [
      "pallindrome\n"
     ]
    }
   ],
   "source": [
    "a=input()\n",
    "flag=0\n",
    "for i in range(0,int(len(a)/2)):\n",
    "    if a[i]!=a[(i+1)*-1]:\n",
    "        flag=1\n",
    "        break\n",
    "if flag:\n",
    "    print(\"not pallindrome\")\n",
    "else:\n",
    "    print(\"pallindrome\")"
   ]
  },
  {
   "cell_type": "code",
   "execution_count": 26,
   "id": "7001dc35-cb3c-45e2-adc6-d8f223fa7182",
   "metadata": {},
   "outputs": [
    {
     "name": "stdin",
     "output_type": "stream",
     "text": [
      " 8\n"
     ]
    },
    {
     "name": "stdout",
     "output_type": "stream",
     "text": [
      "n is not a prime number\n"
     ]
    }
   ],
   "source": [
    "n=int(input())\n",
    "for x in range(2,int(n/2)):\n",
    "    if n%x==0:\n",
    "        print(\"n is not a prime number\")\n",
    "        break\n",
    "else:\n",
    "    print(\"n is  a prime number\")"
   ]
  },
  {
   "cell_type": "code",
   "execution_count": 28,
   "id": "94f7b9b5-0b5a-4882-a5cb-e2c9b870ab95",
   "metadata": {},
   "outputs": [
    {
     "name": "stdin",
     "output_type": "stream",
     "text": [
      " 3\n"
     ]
    },
    {
     "name": "stdout",
     "output_type": "stream",
     "text": [
      "prime number\n"
     ]
    }
   ],
   "source": [
    "a=int(input())\n",
    "flag=0\n",
    "for i in range(2,int(a/2)):\n",
    "    if a%x==0:\n",
    "        flag=1\n",
    "        break\n",
    "if flag:\n",
    "    print(\"not prime number\")\n",
    "else:\n",
    "    print(\"prime number\")"
   ]
  },
  {
   "cell_type": "code",
   "execution_count": 5,
   "id": "42ae44b5-c1cc-411c-a71d-709faf5a191f",
   "metadata": {},
   "outputs": [
    {
     "name": "stdin",
     "output_type": "stream",
     "text": [
      "enter the temperature 45\n"
     ]
    },
    {
     "name": "stdout",
     "output_type": "stream",
     "text": [
      "the temperature after converted to farenheit is 113.0\n"
     ]
    }
   ],
   "source": [
    "ct=int(input(\"enter the temperature\"))\n",
    "ft=(ct*9/5)+32\n",
    "print(\"the temperature after converted to farenheit is\",ft)"
   ]
  },
  {
   "cell_type": "code",
   "execution_count": null,
   "id": "4b401821-a45c-41e5-8307-01a914903f7b",
   "metadata": {},
   "outputs": [],
   "source": []
  }
 ],
 "metadata": {
  "kernelspec": {
   "display_name": "Python 3 (ipykernel)",
   "language": "python",
   "name": "python3"
  },
  "language_info": {
   "codemirror_mode": {
    "name": "ipython",
    "version": 3
   },
   "file_extension": ".py",
   "mimetype": "text/x-python",
   "name": "python",
   "nbconvert_exporter": "python",
   "pygments_lexer": "ipython3",
   "version": "3.12.3"
  }
 },
 "nbformat": 4,
 "nbformat_minor": 5
}
