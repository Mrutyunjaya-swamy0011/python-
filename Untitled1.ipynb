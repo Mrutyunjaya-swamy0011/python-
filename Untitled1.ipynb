{
 "cells": [
  {
   "cell_type": "code",
   "execution_count": 2,
   "id": "277b458c-4331-493c-8ccc-9317937e947e",
   "metadata": {},
   "outputs": [
    {
     "name": "stdin",
     "output_type": "stream",
     "text": [
      "enter the number: 3\n",
      "enter the another number: 4\n"
     ]
    },
    {
     "name": "stdout",
     "output_type": "stream",
     "text": [
      "num2 is greater number\n"
     ]
    }
   ],
   "source": [
    "num1=int(input(\"enter the number:\"))\n",
    "num2=int(input(\"enter the another number:\"))\n",
    "if num1>num2:\n",
    "    print(\"num1 is greater number\")\n",
    "else:\n",
    "    print(\"num2 is greater number\")\n"
   ]
  },
  {
   "cell_type": "code",
   "execution_count": 12,
   "id": "38b05ff7-6a5d-444e-87b2-d107c3938808",
   "metadata": {},
   "outputs": [
    {
     "name": "stdin",
     "output_type": "stream",
     "text": [
      " 1\n",
      " 3\n",
      " 2\n"
     ]
    },
    {
     "name": "stdout",
     "output_type": "stream",
     "text": [
      "y is greatest\n"
     ]
    }
   ],
   "source": [
    "x=int(input())\n",
    "y=int(input())\n",
    "z=int(input())\n",
    "if x>y:\n",
    "    if x>z:\n",
    "        print(\"x is greatest\")\n",
    "    else:\n",
    "        print(\"z is greatest\")\n",
    "else:\n",
    "    if y>z:\n",
    "        print(\"y is greatest\")\n",
    "    else:\n",
    "        print(\"z is greatest\")\n",
    "         \n",
    "       "
   ]
  },
  {
   "cell_type": "code",
   "execution_count": 18,
   "id": "92ef83c3-68d8-492e-9c64-0a8e4c082fa3",
   "metadata": {},
   "outputs": [
    {
     "name": "stdin",
     "output_type": "stream",
     "text": [
      "enter the obtained marks 34\n"
     ]
    },
    {
     "name": "stdout",
     "output_type": "stream",
     "text": [
      "grade=E\n"
     ]
    }
   ],
   "source": [
    "marks=int(input(\"enter the obtained marks\"))\n",
    "if marks>=90 and marks<=100:\n",
    "    print(\"grade=A+\")\n",
    "else:\n",
    "    if marks>=70 and marks<80:\n",
    "       print(\"grade=A\")\n",
    "    else:\n",
    "        if marks>=60 and marks<70:\n",
    "           print(\"grade=B\")\n",
    "        else:\n",
    "            if marks>=50 and marks<60:\n",
    "               print(\"grade=c\")\n",
    "            else:\n",
    "                if marks>=40 and marks<50:\n",
    "                   print(\"grade=D\")\n",
    "                else:\n",
    "                    if marks<35:\n",
    "                       print(\"grade=E\")\n",
    "    \n",
    "    "
   ]
  },
  {
   "cell_type": "code",
   "execution_count": 22,
   "id": "01762643-69c6-4feb-a77e-0c6e1fdc0955",
   "metadata": {},
   "outputs": [
    {
     "name": "stdin",
     "output_type": "stream",
     "text": [
      "enter your age: 57\n",
      "enter the name: nm\n"
     ]
    },
    {
     "name": "stdout",
     "output_type": "stream",
     "text": [
      "nm\n",
      "you are elegible\n"
     ]
    }
   ],
   "source": [
    "age=int(input(\"enter your age:\"))\n",
    "name=input(\"enter the name:\")\n",
    "if age>=18:\n",
    "    print(name)\n",
    "    print(\"you are elegible\")\n",
    "else:\n",
    "    print(name)\n",
    "    print(\"you are not elegible\")"
   ]
  },
  {
   "cell_type": "code",
   "execution_count": 23,
   "id": "666a5da6-7144-4e83-9cd1-5506cf4ecd00",
   "metadata": {},
   "outputs": [
    {
     "name": "stdin",
     "output_type": "stream",
     "text": [
      "enter the number: 7\n",
      "enter the another number: 8\n"
     ]
    },
    {
     "name": "stdout",
     "output_type": "stream",
     "text": [
      "num2 is greater number\n"
     ]
    }
   ],
   "source": [
    "num1=int(input(\"enter the number:\"))\n",
    "num2=int(input(\"enter the another number:\"))\n",
    "if num1>num2:\n",
    "    print(\"num1 is greater number\")\n",
    "else:\n",
    "    print(\"num2 is greater number\")"
   ]
  },
  {
   "cell_type": "code",
   "execution_count": 24,
   "id": "75c38503-42d0-4943-adc4-d39722f197b4",
   "metadata": {},
   "outputs": [
    {
     "name": "stdin",
     "output_type": "stream",
     "text": [
      "enter the day number 6\n"
     ]
    },
    {
     "name": "stdout",
     "output_type": "stream",
     "text": [
      "friday\n"
     ]
    }
   ],
   "source": [
    "day=int(input(\"enter the day number\"))\n",
    "match day:\n",
    "    case 1:print(\"sunday\")\n",
    "    case 2:print(\"monday\")\n",
    "    case 3:print(\"tuesday\")\n",
    "    case 4:print(\"wednesday\")\n",
    "    case 5:print(\"thursday\")\n",
    "    case 6:print(\"friday\")\n",
    "    case 7:print(\"saturday\")\n",
    "    case _:print(\"invalid number\")    "
   ]
  },
  {
   "cell_type": "code",
   "execution_count": 25,
   "id": "fd18f45f-6cd2-4b4d-9600-697ba4e7f04f",
   "metadata": {},
   "outputs": [
    {
     "name": "stdout",
     "output_type": "stream",
     "text": [
      "0\n",
      "1\n",
      "2\n",
      "3\n",
      "4\n",
      "5\n",
      "6\n",
      "7\n",
      "8\n",
      "9\n",
      "10\n",
      "11\n",
      "12\n",
      "13\n",
      "14\n",
      "15\n",
      "16\n",
      "17\n",
      "18\n",
      "19\n"
     ]
    }
   ],
   "source": [
    "for x in range(0,20):\n",
    "    print(x)"
   ]
  },
  {
   "cell_type": "code",
   "execution_count": 29,
   "id": "691eec45-f9f9-4b05-9a49-78b1ee687aa2",
   "metadata": {},
   "outputs": [
    {
     "name": "stdout",
     "output_type": "stream",
     "text": [
      "1\n",
      "2\n",
      "3\n",
      "4\n"
     ]
    }
   ],
   "source": [
    "for y in range(1,5):\n",
    "    print(y)"
   ]
  },
  {
   "cell_type": "code",
   "execution_count": 3,
   "id": "a00abbe1-79f2-4006-b6e1-9dc0b500d067",
   "metadata": {},
   "outputs": [
    {
     "name": "stdin",
     "output_type": "stream",
     "text": [
      "enter the number of rows: 7\n"
     ]
    },
    {
     "name": "stdout",
     "output_type": "stream",
     "text": [
      "*\n",
      "\n",
      "**\n",
      "\n",
      "***\n",
      "\n",
      "****\n",
      "\n",
      "*****\n",
      "\n",
      "******\n",
      "\n",
      "*******\n",
      "\n"
     ]
    }
   ],
   "source": [
    "rows=int(input(\"enter the number of rows:\"))\n",
    "for i in range(1,rows+1):\n",
    "        print(\"*\" * i)\n",
    "        print()\n"
   ]
  },
  {
   "cell_type": "code",
   "execution_count": 13,
   "id": "910d615b-7e70-48b9-a3f4-13823ef3a097",
   "metadata": {},
   "outputs": [
    {
     "name": "stdout",
     "output_type": "stream",
     "text": [
      "*\n",
      "**\n",
      "***\n",
      "****\n",
      "*****\n",
      "******\n",
      "*******\n",
      "********\n",
      "*********\n",
      "**********\n"
     ]
    }
   ],
   "source": [
    "for y in range(0,10):\n",
    "    for x in range(0,y+1):\n",
    "        print(\"*\",end=\"\")\n",
    "    print()"
   ]
  },
  {
   "cell_type": "raw",
   "id": "ccd9916f-2054-4e8e-bf22-2aceccdeab7e",
   "metadata": {},
   "source": [
    "\n",
    "   "
   ]
  },
  {
   "cell_type": "code",
   "execution_count": null,
   "id": "2156fb57-ee23-4b54-b608-9df87785bf04",
   "metadata": {},
   "outputs": [],
   "source": []
  },
  {
   "cell_type": "code",
   "execution_count": 23,
   "id": "7421b58c-a7d4-4836-a53e-caa59032db48",
   "metadata": {},
   "outputs": [
    {
     "name": "stdin",
     "output_type": "stream",
     "text": [
      "enter the length 6\n"
     ]
    },
    {
     "name": "stdout",
     "output_type": "stream",
     "text": [
      "0 11235"
     ]
    }
   ],
   "source": [
    "a=0\n",
    "b=1\n",
    "n=int(input(\"enter the length\"))\n",
    "print(a,b,end=\"\")\n",
    "for i in range(0,n-2):\n",
    "    c=a+b\n",
    "    print(c,end=\"\")\n",
    "    a=b\n",
    "    b=c"
   ]
  },
  {
   "cell_type": "code",
   "execution_count": null,
   "id": "65cd5eee-66eb-40c0-8a61-b7b0a4bc415a",
   "metadata": {},
   "outputs": [],
   "source": []
  }
 ],
 "metadata": {
  "kernelspec": {
   "display_name": "Python 3 (ipykernel)",
   "language": "python",
   "name": "python3"
  },
  "language_info": {
   "codemirror_mode": {
    "name": "ipython",
    "version": 3
   },
   "file_extension": ".py",
   "mimetype": "text/x-python",
   "name": "python",
   "nbconvert_exporter": "python",
   "pygments_lexer": "ipython3",
   "version": "3.12.3"
  }
 },
 "nbformat": 4,
 "nbformat_minor": 5
}
